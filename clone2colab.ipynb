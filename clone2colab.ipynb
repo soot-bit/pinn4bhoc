{
 "cells": [
  {
   "cell_type": "markdown",
   "id": "C0zD-pG8JUyL",
   "metadata": {
    "id": "C0zD-pG8JUyL"
   },
   "source": [
    "# Clone and install specified Python module\n",
    "\n",
    "WARNING: We assume that `module` name is the same as the `repo` name."
   ]
  },
  {
   "cell_type": "code",
   "execution_count": 3,
   "id": "SilWX1w90rTd",
   "metadata": {
    "colab": {
     "base_uri": "https://localhost:8080/"
    },
    "id": "SilWX1w90rTd",
    "outputId": "fce80908-385b-4cfa-b4e5-a0159c0e055a"
   },
   "outputs": [
    {
     "name": "stdout",
     "output_type": "stream",
     "text": [
      "Running locally\n"
     ]
    }
   ],
   "source": [
    "import os\n",
    "import subprocess\n",
    "import importlib\n",
    "    \n",
    "CHECK = \"\\u2705\"\n",
    "FAIL  = \"\\u274C\"\n",
    "WARN  = \"\\u26A0\"\n",
    "\n",
    "if IN_COLAB: \n",
    "    repo     = GITHUB_REPO\n",
    "    user     = GITHUB_USER\n",
    "    folders  = GITHUB_FOLDERS\n",
    "    \n",
    "    homedir  = os.getcwd()\n",
    "    repodir  = f'{homedir}/{repo}'\n",
    "    \n",
    "    print('BEGIN{clone and install}\\n')\n",
    "    url      = f'https://github.com/{user}/{repo}'\n",
    "    raw_url  = url.replace('github.com', 'raw.githubusercontent.com')\n",
    "    raw_url += '/refs/heads/main/'\n",
    "    toml_file= 'pyproject.toml'\n",
    "\n",
    "    # 0. uninstall module\n",
    "    !pip uninstall -y {repo} 2>/dev/null\n",
    "    \n",
    "    # 1. delete local repo folder if it exists\n",
    "    print(f' 1. delete old repo: {repo}')\n",
    "    !rm -rf {repo}\n",
    "\n",
    "    # 2. clone repo\n",
    "    print(f' 2. clone {repo}')\n",
    "    !git clone --depth 1 --filter=blob:none --sparse {url}\n",
    "\n",
    "    print(f' 3. cd {repo}')\n",
    "    os.chdir(repodir) # move to repo folder\n",
    "    for folder in folders:\n",
    "        print(f' 4. check out {folder}')\n",
    "        !git sparse-checkout set {folder}\n",
    "\n",
    "    print(f' 5. wget {toml_file}')\n",
    "    !cd {repodir}\n",
    "    URL = raw_url + toml_file\n",
    "    !wget -q {URL}  -O {toml_file}\n",
    "\n",
    "    print(f' 6. pip install -e .\\n')\n",
    "    !cd {repodir}\n",
    "    !pip install -e .\n",
    "    try:\n",
    "        mod = importlib.import_module(repo)\n",
    "        print(f\"{CHECK} Successfully imported {repo}\")\n",
    "    except ModuleNotFoundError as e:\n",
    "        print(f\"{FAIL} Failed to import '{repo}': {e}\")\n",
    "\n",
    "    print('\\nEND{clone and install}')\n",
    "\n",
    "    !cd {homedir}    "
   ]
  },
  {
   "cell_type": "code",
   "execution_count": null,
   "id": "4_lP_-_SKmO4",
   "metadata": {
    "id": "4_lP_-_SKmO4"
   },
   "outputs": [],
   "source": []
  }
 ],
 "metadata": {
  "colab": {
   "provenance": []
  },
  "kernelspec": {
   "display_name": "Python 3 (ipykernel)",
   "language": "python",
   "name": "python3"
  },
  "language_info": {
   "codemirror_mode": {
    "name": "ipython",
    "version": 3
   },
   "file_extension": ".py",
   "mimetype": "text/x-python",
   "name": "python",
   "nbconvert_exporter": "python",
   "pygments_lexer": "ipython3",
   "version": "3.12.11"
  }
 },
 "nbformat": 4,
 "nbformat_minor": 5
}
