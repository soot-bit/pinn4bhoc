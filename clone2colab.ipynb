{
 "cells": [
  {
   "cell_type": "markdown",
   "id": "C0zD-pG8JUyL",
   "metadata": {
    "id": "C0zD-pG8JUyL"
   },
   "source": [
    "# Clone and install specified Python module"
   ]
  },
  {
   "cell_type": "code",
   "execution_count": 1,
   "id": "KvjJXuYRz2GB",
   "metadata": {
    "id": "KvjJXuYRz2GB"
   },
   "outputs": [],
   "source": [
    "COLAB_FOLDER = 'AIMS' # change as needed\n",
    "GITHUB_USER  = 'soot-bit'\n",
    "GITHUB_REPO  = 'pinn4bhoc'\n",
    "GITHUB_FOLDERS  = ['pinn4bhoc']"
   ]
  },
  {
   "cell_type": "code",
   "execution_count": 2,
   "id": "c01754fa-5f8c-4e71-ba26-71905cba2761",
   "metadata": {
    "id": "c01754fa-5f8c-4e71-ba26-71905cba2761"
   },
   "outputs": [],
   "source": [
    "CHECK = \"\\u2705\"\n",
    "FAIL  = \"\\u274C\"\n",
    "WARN  = \"\\u26A0\"\n",
    "# --------------------------------------------------------------------\n",
    "def git_clone(user, repo, folders):\n",
    "    import os\n",
    "    import subprocess\n",
    "\n",
    "    url      = f'https://github.com/{user}/{repo}'\n",
    "    raw_url  = url.replace('github.com', 'raw.githubusercontent.com')\n",
    "    raw_url += '/refs/heads/main/'\n",
    "    toml_file= 'pyproject.toml'\n",
    "\n",
    "    # 1. Delete local repo folder if it exists\n",
    "    print(f'\\t1. delete old repo: {repo}')\n",
    "    result = subprocess.run(\n",
    "        [\"rm\", \"-rf\", repo],\n",
    "        capture_output=True)\n",
    "    if result.returncode != 0:\n",
    "        print(f\"{FAIL} Deletion of {repo} failed:\",\n",
    "              result.stderr.strip())\n",
    "        return result.returncode\n",
    "\n",
    "    # 2. Clone repo <repo> with minimal history\n",
    "    print(f'\\t2. clone repo: {repo}')\n",
    "    result = subprocess.run(\n",
    "        [\"git\", \"clone\",\n",
    "         \"--depth\", \"1\",\n",
    "         \"--filter=blob:none\",\n",
    "         \"--sparse\", url],\n",
    "        capture_output=True,\n",
    "        text=True)\n",
    "    if result.returncode == 0:\n",
    "        print(result.stdout.strip())\n",
    "    else:\n",
    "        print(f\"{FAIL} Clone of {repo} failed:\", result.stderr.strip())\n",
    "        return result.returncode\n",
    "\n",
    "    # 3. Checkout specified folders\n",
    "    print(f'\\t3. cd to repo folder: {repo}')\n",
    "    os.chdir(repo) # move to repo folder\n",
    "    for folder in folders:\n",
    "        print(f'\\t4. check out folder: {folder}')\n",
    "        result = subprocess.run(\n",
    "        \t[\"git\", \"sparse-checkout\",\n",
    "          \t\"set\", folder],\n",
    "        \tcapture_output=True,\n",
    "        \ttext=True)\n",
    "        if result.returncode == 0:\n",
    "        \tprint(result.stdout.strip())\n",
    "        else:\n",
    "            print(f\"{FAIL} Sparse checkout of {dirname} failed:\",\n",
    "                  result.stderr.strip())\n",
    "            os.chdir(\"..\")\n",
    "            return result.returncode\n",
    "\n",
    "    # 5. wget toml_file\n",
    "    print(f'\\t5. wget {toml_file}')\n",
    "    url = raw_url + toml_file\n",
    "    result = subprocess.run(\n",
    "        [\"wget\", \"-q\", url, \"-O\", toml_file],\n",
    "        capture_output=True, text=True)\n",
    "    if result.returncode != 0:\n",
    "        print(f\"{FAIL} wget of {toml_file} failed:\", result.stderr.strip())\n",
    "        return result.returncode\n",
    "\n",
    "    # 6. pip install -e . module\n",
    "    print(f'\\t6. pip install -e .\\n')\n",
    "    result = subprocess.run(\n",
    "        [\"pip\", \"install\", \"-e\", '.'],\n",
    "        capture_output=True,\n",
    "        text=True)\n",
    "    if result.returncode == 0:\n",
    "        print(result.stdout.strip())\n",
    "    else:\n",
    "        print(f\"{FAIL} pip install -e . failed: \",\n",
    "              result.stderr.strip())\n",
    "        os.chdir(\"..\")\n",
    "        return result.returncode\n",
    "\n",
    "    # 5. Success! remember to go back to code folder\n",
    "    print(f'\\n{CHECK} Installation of {repo} successful')\n",
    "    os.chdir(\"..\")\n",
    "    return 0"
   ]
  },
  {
   "cell_type": "code",
   "execution_count": 3,
   "id": "SilWX1w90rTd",
   "metadata": {
    "colab": {
     "base_uri": "https://localhost:8080/"
    },
    "id": "SilWX1w90rTd",
    "outputId": "fce80908-385b-4cfa-b4e5-a0159c0e055a"
   },
   "outputs": [
    {
     "name": "stdout",
     "output_type": "stream",
     "text": [
      "Running locally\n"
     ]
    }
   ],
   "source": [
    "try:\n",
    "    from google.colab import drive\n",
    "    drive.mount('/content/gdrive')\n",
    "    print('\\nGoogle Drive mounted\\n')\n",
    "    %cd /content/gdrive/MyDrive/{COLAB_FOLDER}\n",
    "    %pwd\n",
    "\n",
    "    print('Running on Colab')\n",
    "    IN_COLAB = True\n",
    "except:\n",
    "    print('Running locally')\n",
    "    IN_COLAB = False\n",
    "\n",
    "if IN_COLAB:\n",
    "    git_clone(GITHUB_USER, GITHUB_REPO, GITHUB_FOLDERS)"
   ]
  },
  {
   "cell_type": "code",
   "execution_count": null,
   "id": "4_lP_-_SKmO4",
   "metadata": {
    "id": "4_lP_-_SKmO4"
   },
   "outputs": [],
   "source": []
  }
 ],
 "metadata": {
  "colab": {
   "provenance": []
  },
  "kernelspec": {
   "display_name": "Python 3 (ipykernel)",
   "language": "python",
   "name": "python3"
  },
  "language_info": {
   "codemirror_mode": {
    "name": "ipython",
    "version": 3
   },
   "file_extension": ".py",
   "mimetype": "text/x-python",
   "name": "python",
   "nbconvert_exporter": "python",
   "pygments_lexer": "ipython3",
   "version": "3.12.11"
  }
 },
 "nbformat": 4,
 "nbformat_minor": 5
}
